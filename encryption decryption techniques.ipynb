{
 "cells": [
  {
   "cell_type": "markdown",
   "id": "0b78c951",
   "metadata": {},
   "source": [
    "## Vigenre Cipher"
   ]
  },
  {
   "cell_type": "code",
   "execution_count": 4,
   "id": "ca1b1482",
   "metadata": {},
   "outputs": [
    {
     "name": "stdout",
     "output_type": "stream",
     "text": [
      "The entered string is -  SAHAJ\n",
      "The key is -  KEYKE \n",
      "\n",
      "Your Ciphered text is:  CEFKN\n",
      "Your plain text is:  SAHAJ\n"
     ]
    }
   ],
   "source": [
    "def encrypt(plaintxt,key):\n",
    "    l=list('ABCDEFGHIJKLMNOPQRSTUVWXYZ')\n",
    "    ciphertxt=''    \n",
    "    for i in range(len(key)):\n",
    "        ciphertxt+=l[(ord(plaintxt[i])+ord(key[i]))%26]\n",
    "    return ciphertxt    \n",
    "def decrypt(ciphertxt,key):\n",
    "    l=list('ABCDEFGHIJKLMNOPQRSTUVWXYZ')\n",
    "    plaintxt=''\n",
    "    for i in range(len(key)):\n",
    "            plaintxt+=l[(ord(ciphertxt[i])-ord(key[i]))%26]\n",
    "    return plaintxt\n",
    "\n",
    "plaintxt=''.join(input('Enter plain text here: ').upper().split())\n",
    "key=input('Enter the keyword: ').upper()\n",
    "\n",
    "if len(plaintxt)!=len(key):\n",
    "    count=0\n",
    "    \n",
    "    while len(plaintxt)!=len(key):\n",
    "        if count>=len(key):\n",
    "            count=0\n",
    "        key+=key[count]\n",
    "        count+=1    \n",
    "        \n",
    "ciphertxt=encrypt(plaintxt,key)\n",
    "plaintxt=decrypt(ciphertxt,key)\n",
    "print('The entered string is - ', plaintxt)\n",
    "\n",
    "print('The key is - ', key , '\\n')\n",
    "print('Your Ciphered text is: ',ciphertxt)\n",
    "print('Your plain text is: ',plaintxt)"
   ]
  },
  {
   "cell_type": "markdown",
   "id": "5c5d966e",
   "metadata": {},
   "source": [
    "## Rail Fence"
   ]
  },
  {
   "cell_type": "code",
   "execution_count": 6,
   "id": "edc1e097",
   "metadata": {},
   "outputs": [
    {
     "name": "stdout",
     "output_type": "stream",
     "text": [
      "Enter your plain text here: rishigandhirt\n",
      "5 6 7 4 3 2 1 \n",
      "[['r' 'i' 's' 'h' 'i' 'g' 'a']\n",
      " ['n' 'd' 'h' 'i' 'r' 't' 'x']]\n",
      "Your ciphered text is:  axgtirhirnidsh\n",
      "Your deciphered text is: rishigandhirtx\n"
     ]
    }
   ],
   "source": [
    "import numpy as np\n",
    "def creatematrix(plaintxt,key):\n",
    "    a=len(plaintxt)//len(key)\n",
    "    if len(plaintxt)%len(key)!=0:\n",
    "        for i in range(len(key)*(a+1)-len(plaintxt)):\n",
    "            plaintxt+='x'\n",
    "        return np.array(list(plaintxt)).reshape(a+1,len(key))\n",
    "    return np.array(list(plaintxt)).reshape(a,len(key))\n",
    "\n",
    "def encrypt(matrix,key):\n",
    "    ciphertxt=''\n",
    "    for i in range(len(key)):\n",
    "        c=key.index(i+1)\n",
    "        ciphertxt+=''.join(matrix[:,c])\n",
    "    return ciphertxt\n",
    "\n",
    "def decrypt(ciphertxt,key):\n",
    "    cc=''\n",
    "    c=len(ciphertxt)//len(key)\n",
    "    for i in key:\n",
    "        cc+=ciphertxt[(i-1)*c:(i-1)*c+c]\n",
    "    a=np.array(list(cc)).reshape(len(key),c).T\n",
    "    return ''.join(a.reshape(1,len(ciphertxt)).tolist()[0])\n",
    "    \n",
    "plaintxt=input('Enter your plain text here: ')\n",
    "key=list(map(int,input().split()))\n",
    "m=creatematrix(plaintxt,key)\n",
    "ciphertxt=encrypt(m,key)\n",
    "print(m)\n",
    "print('Your ciphered text is: ',ciphertxt)\n",
    "print('Your deciphered text is:',decrypt(ciphertxt,key))"
   ]
  },
  {
   "cell_type": "markdown",
   "id": "97309ae9",
   "metadata": {},
   "source": [
    "## Double transposition"
   ]
  },
  {
   "cell_type": "code",
   "execution_count": 10,
   "id": "fc8a8d05",
   "metadata": {},
   "outputs": [
    {
     "name": "stdout",
     "output_type": "stream",
     "text": [
      "Enter your plain text here: rishi gandhi vikaskumar\n",
      "5 6 7 4 3 2 1\n",
      "1 2 3 4 5 6 7\n",
      "gvmx  uxiikxhhsxraiainkrsdax\n",
      "[['g' 'v' 'm' 'x' ' ' ' ' 'u']\n",
      " ['x' 'i' 'i' 'k' 'x' 'h' 'h']\n",
      " ['s' 'x' 'r' 'a' 'i' 'a' 'i']\n",
      " ['n' 'k' 'r' 's' 'd' 'a' 'x']]\n",
      "[['r' 'i' 's' 'h' 'i' ' ' 'g']\n",
      " ['a' 'n' 'd' 'h' 'i' ' ' 'v']\n",
      " ['i' 'k' 'a' 's' 'k' 'u' 'm']\n",
      " ['a' 'r' 'x' 'x' 'x' 'x' 'x']]\n",
      "Your ciphered text is:  gxsnvixkmirrxkas xid haauhix\n",
      "gvmx  uxiikxhhsxraiainkrsdax\n",
      "Your deciphered text is: rishi gandhi vikaskumarxxxxx\n"
     ]
    }
   ],
   "source": [
    "import numpy as np\n",
    "def creatematrix(plaintxt,key):\n",
    "    a=len(plaintxt)//len(key)\n",
    "    if len(plaintxt)%len(key)!=0:\n",
    "        for i in range(len(key)*(a+1)-len(plaintxt)):\n",
    "            plaintxt+='x'\n",
    "        return np.array(list(plaintxt)).reshape(a+1,len(key))\n",
    "    return np.array(list(plaintxt)).reshape(a,len(key))\n",
    "\n",
    "def encrypt(creatematrix,matrix,key,key1):\n",
    "    ciphertxt1=''\n",
    "    for i in range(len(key)):\n",
    "        c=key.index(i+1)\n",
    "        ciphertxt1+=''.join(matrix[:,c])\n",
    "    print(ciphertxt1)\n",
    "    a=creatematrix(ciphertxt1,key1)\n",
    "    print(a)\n",
    "    ciphertxt2=''\n",
    "    for i in range(len(key1)):\n",
    "        k=key1.index(i+1)\n",
    "        ciphertxt2+=''.join(a[:,k])\n",
    "    return ciphertxt2\n",
    "\n",
    "def decrypt(ciphertxt,key,key1):\n",
    "    cc=''\n",
    "    cc1=''\n",
    "    cc2=''\n",
    "    c=len(ciphertxt)//len(key1)\n",
    "    for i in key1:\n",
    "        cc+=ciphertxt[(i-1)*c:(i-1)*c+c]\n",
    "    a=np.array(list(cc)).reshape(len(key1),c).T\n",
    "    cc1=''.join(a.reshape(1,len(ciphertxt)).tolist()[0])\n",
    "    print(cc1)\n",
    "    for i in key:\n",
    "        cc2+=cc1[(i-1)*c:(i-1)*c+c]\n",
    "    aa=np.array(list(cc2)).reshape(len(key1),c).T\n",
    "    return ''.join(aa.reshape(1,len(ciphertxt)).tolist()[0])\n",
    "    \n",
    "plaintxt=input('Enter your plain text here: ')\n",
    "key=list(map(int,input().split()))\n",
    "key1=list(map(int,input().split()))\n",
    "m=creatematrix(plaintxt,key)\n",
    "ciphertxt=encrypt(creatematrix,m,key,key1)\n",
    "print(m)\n",
    "print('Your ciphered text is: ',ciphertxt)\n",
    "print('Your deciphered text is:',decrypt(ciphertxt,key,key1))\n"
   ]
  },
  {
   "cell_type": "markdown",
   "id": "5d9154df",
   "metadata": {},
   "source": [
    "## Ceaser Cipher"
   ]
  },
  {
   "cell_type": "code",
   "execution_count": 11,
   "id": "0f98ddc8",
   "metadata": {},
   "outputs": [
    {
     "name": "stdout",
     "output_type": "stream",
     "text": [
      "Enter plain text: rishi gandhi\n",
      "Key: 3\n",
      "Your ciphered text is: ulvklqjdqgkl\n",
      "Your deciphered text is: rishingandhi\n"
     ]
    }
   ],
   "source": [
    "def encrypt_function(text, key):  \n",
    "    result = \"\"  \n",
    "\n",
    "    for i in range(len(text)):  \n",
    "        char = text[i]  \n",
    "\n",
    "        if (char.isupper()):  \n",
    "            result += chr((ord(char) + key - 65) % 26 + 65)  \n",
    "\n",
    "        else:  \n",
    "            result += chr((ord(char) + key - 97) % 26 + 97)  \n",
    "    return result\n",
    "def decrypt_function(var, key):  \n",
    "    pt = \"\"  \n",
    "\n",
    "    for i in range(len(var)):  \n",
    "        char = var[i]  \n",
    "\n",
    "        if (char.isupper()):  \n",
    "            pt += chr((ord(char) - key - 65) % 26 + 65)  \n",
    "\n",
    "        else:  \n",
    "            pt += chr((ord(char) - key - 97) % 26 + 97)  \n",
    "    return pt\n",
    "  \n",
    "text=input('Enter plain text: ')\n",
    "key=int(input('Key: '))\n",
    "encrypt=encrypt_function(text, key)\n",
    "decrypt=decrypt_function(encrypt, key)\n",
    "print('Your ciphered text is:',encrypt)\n",
    "print('Your deciphered text is:',decrypt)"
   ]
  },
  {
   "cell_type": "markdown",
   "id": "b5800404",
   "metadata": {},
   "source": [
    "## Playfair Cipher"
   ]
  },
  {
   "cell_type": "code",
   "execution_count": 12,
   "id": "dbaf6978",
   "metadata": {},
   "outputs": [
    {
     "name": "stdout",
     "output_type": "stream",
     "text": [
      "Enter the plain text: rishi vikaskumar gandhi\n",
      "Enter the key: hello\n",
      "['H', 'E', 'L', 'O', 'A']\n",
      "['B', 'C', 'D', 'F', 'G']\n",
      "['I', 'K', 'M', 'N', 'P']\n",
      "['Q', 'R', 'S', 'T', 'U']\n",
      "['V', 'W', 'X', 'Y', 'Z']\n",
      "\n",
      "Encrypted Words: QK QL QH KM LU PR PL UC OP BL MV\n",
      "Decrypted Words: RI SH IV IK AS KU MA RG AN DH IX\n",
      "Decrypted text: RISHIVIKASKUMARGANDHI\n"
     ]
    }
   ],
   "source": [
    "def makeMatrix(a):\n",
    "    a = a.replace(\" \",\"\")\n",
    "    tempList = []\n",
    "    string = \"\"\n",
    "    for i in a:\n",
    "        if i not in tempList:\n",
    "            tempList.append(i)\n",
    "            string+=i\n",
    "    table = [[\"\" for j in range(0,5)] for i in range(0,5)]\n",
    "    i = 0\n",
    "    j = 0\n",
    "    alphabets = 0\n",
    "    for k in range(0,len(string)):\n",
    "            if j > 4:\n",
    "                j = 0\n",
    "                i+=1\n",
    "            table[i][j] = string[k]\n",
    "            j+=1\n",
    "            \n",
    "    while i != 4 or j != 5:\n",
    "        if j > 4:\n",
    "            j = 0\n",
    "            i+=1\n",
    "        if chr(65+alphabets) not in string and chr(65+alphabets) != \"J\":\n",
    "            table[i][j] = chr(65+alphabets)\n",
    "            j+=1\n",
    "        alphabets+=1\n",
    "    return table\n",
    "\n",
    "def divideTheWord(a):\n",
    "    string = \"\"\n",
    "    a = a.replace(\" \",\"\")\n",
    "    i = 0\n",
    "    while i < (len(a)):\n",
    "        try:\n",
    "            if a[i] != a[i+1]:\n",
    "                string+=f\"{a[i]+a[i+1]} \"\n",
    "                i+=2\n",
    "            else:\n",
    "                string+=f\"{a[i]}X \"\n",
    "                i+=1\n",
    "        except:\n",
    "                string+=f\"{a[i]}X \"\n",
    "                i+=1\n",
    "    return string.split()\n",
    "\n",
    "def findRowAndIndex(a,matrix):\n",
    "    if a == \"J\": a = \"I\"\n",
    "    for i in range(0,5):\n",
    "        for j in range(0,5):\n",
    "            if matrix[i][j] == a :\n",
    "                    return i,j\n",
    "\n",
    "def playFairEncryption(table,dividedPlainWord):\n",
    "    dividedEncryptedWord = []\n",
    "    for i in dividedPlainWord:\n",
    "        firstRow,firstIndex = findRowAndIndex(i[0],table)\n",
    "        secondRow,secondIndex = findRowAndIndex(i[1],table)\n",
    "        if firstRow == secondRow:\n",
    "            first = table[firstRow][0] if firstIndex+1 > 4 else table[firstRow][firstIndex+1]\n",
    "            second = table[secondRow][0] if secondIndex+1 > 4 else table[secondRow][secondIndex+1]\n",
    "            dividedEncryptedWord.append(first+second)\n",
    "        elif firstIndex == secondIndex:\n",
    "            first = table[0][firstIndex] if firstRow+1 > 4 else table[firstRow+1][firstIndex]\n",
    "            second = table[0][secondIndex] if secondRow+1 > 4 else table[secondRow+1][secondIndex]\n",
    "            dividedEncryptedWord.append(first+second)\n",
    "        else:\n",
    "            first,second =table[firstRow][secondIndex],table[secondRow][firstIndex]\n",
    "            dividedEncryptedWord.append(first+second)\n",
    "    return dividedEncryptedWord\n",
    "\n",
    "def playFairDecryption(table,dividedEncryptedWord):\n",
    "    dividedDecryptedWord = []\n",
    "    for i in dividedEncryptedWord:\n",
    "        firstRow,firstIndex = findRowAndIndex(i[0],table)\n",
    "        secondRow,secondIndex = findRowAndIndex(i[1],table)\n",
    "        if firstRow == secondRow:\n",
    "            first = table[firstRow][-1] if firstIndex-1 < 0 else table[firstRow][firstIndex-1]\n",
    "            second = table[secondRow][-1] if secondIndex-1 < 0 else table[secondRow][secondIndex-1]\n",
    "            dividedDecryptedWord.append(first+second)\n",
    "        elif firstIndex == secondIndex:\n",
    "            first = table[-1][firstIndex] if firstRow-1 < 0 else table[firstRow-1][firstIndex]\n",
    "            second = table[-1][secondIndex] if secondRow-1 < 0 else table[secondRow-1][secondIndex]\n",
    "            dividedDecryptedWord.append(first+second)\n",
    "        else:\n",
    "            first,second =table[firstRow][secondIndex],table[secondRow][firstIndex]\n",
    "            dividedDecryptedWord.append(first+second)\n",
    "    return dividedDecryptedWord\n",
    "\n",
    "sentence = input(\"Enter the plain text: \")\n",
    "key = input(\"Enter the key: \")\n",
    "table = makeMatrix(key.upper())\n",
    "dividedPlainWord = divideTheWord(sentence.upper())\n",
    "for i in table:\n",
    "    print(i)\n",
    "print()\n",
    "\n",
    "dividedEncryptedWord = playFairEncryption(table,dividedPlainWord)\n",
    "print(\"Encrypted Words: \"+\" \".join(dividedEncryptedWord))\n",
    "\n",
    "dividedDecryptedWord = playFairDecryption(table,dividedEncryptedWord)\n",
    "print(\"Decrypted Words: \"+\" \".join(dividedDecryptedWord))\n",
    "\n",
    "print(\"Decrypted text: \"+\"\".join(dividedDecryptedWord).replace(\"X\",\"\"))"
   ]
  },
  {
   "cell_type": "markdown",
   "id": "49b16f41",
   "metadata": {},
   "source": [
    "## RSA"
   ]
  },
  {
   "cell_type": "code",
   "execution_count": 15,
   "id": "c0eede7c",
   "metadata": {},
   "outputs": [
    {
     "name": "stdout",
     "output_type": "stream",
     "text": [
      "Enter a message: 5\n",
      "Enter a prime number: 7\n",
      "Enter a prime number: 3\n",
      "Your encrypted message is:  17\n",
      "Your decrypted message is:  5\n"
     ]
    }
   ],
   "source": [
    "from math import gcd\n",
    "import random\n",
    "def RSA_Encrypt(M,p,q):\n",
    "    n=p*q\n",
    "    phin=(p-1)*(q-1)\n",
    "    l=[]\n",
    "    for i in range(2,phin):\n",
    "        if gcd(phin,i)==1:\n",
    "            l.append(i)\n",
    "    e=random.sample(l,1)[0]\n",
    "    d=1\n",
    "    while (e*d)%phin!=1:\n",
    "        d=d+1    \n",
    "    C=1\n",
    "    for i in range(e):\n",
    "        C=((C*M)%n)%n \n",
    "    return C,n,e,d\n",
    "\n",
    "def RSA_Decrypt(C,n,e,d):\n",
    "    m=1\n",
    "    for i in range(d):\n",
    "        m=((m*C)%n)%n\n",
    "    return m\n",
    "\n",
    "\n",
    "M=int(input('Enter a message: '))\n",
    "p=int(input('Enter a prime number: '))\n",
    "q=int(input('Enter a prime number: '))\n",
    "C,n,e,d=RSA_Encrypt(M,p,q)\n",
    "print('Your encrypted message is: ',C)\n",
    "print('Your decrypted message is: ',RSA_Decrypt(C,n,e,d))"
   ]
  },
  {
   "cell_type": "markdown",
   "id": "22724106",
   "metadata": {},
   "source": [
    "# Hill Cipher"
   ]
  },
  {
   "cell_type": "code",
   "execution_count": 21,
   "id": "be27cc2a",
   "metadata": {},
   "outputs": [
    {
     "name": "stdout",
     "output_type": "stream",
     "text": [
      "Enter the plaintext: exam \n",
      "Enter the key: hill\n",
      "\n",
      "Encrypted Text: ELSC\n",
      "Decrypted Text: EXAM\n"
     ]
    }
   ],
   "source": [
    "import math\n",
    "from sympy import *\n",
    "import sys\n",
    "\n",
    "plaintext = input(\"Enter the plaintext: \").upper()\n",
    "key = input(\"Enter the key: \").upper()\n",
    "\n",
    "if len(plaintext) < len(key):\n",
    "    plaintext+=(len(key) - len(plaintext))*\"X\"\n",
    "else:\n",
    "    plaintext = plaintext[:len(key)]\n",
    "\n",
    "matrix_lengthKey = (math.sqrt(len(key)))\n",
    "matrix_lengthPlaintext = (math.sqrt(len(plaintext)))\n",
    "\n",
    "tableKey = [[0 for j in range(0, int(matrix_lengthKey))]\n",
    "            for i in range(0, int(matrix_lengthKey))]\n",
    "\n",
    "j = 0\n",
    "i = 0\n",
    "\n",
    "for k in key:\n",
    "    if j >= int(matrix_lengthKey):\n",
    "        j = 0\n",
    "        i += 1\n",
    "    tableKey[i][j] = ord(k) % 65\n",
    "    j += 1\n",
    "\n",
    "tablePlaintext = [[0 for j in range(0, int(matrix_lengthPlaintext))]\n",
    "                  for i in range(0, int(matrix_lengthPlaintext))]\n",
    "\n",
    "j = 0\n",
    "i = 0\n",
    "\n",
    "for k in plaintext:\n",
    "    if j >= matrix_lengthPlaintext:\n",
    "        j = 0\n",
    "        i += 1\n",
    "    tablePlaintext[i][j] = ord(k) % 65\n",
    "    j += 1\n",
    "\n",
    "result = [[0 for j in range(0, int(matrix_lengthPlaintext))]\n",
    "          for i in range(0, int(matrix_lengthKey))]\n",
    "\n",
    "for j in range(len(tablePlaintext)):\n",
    "    for i in range(len(tableKey)):\n",
    "        sum = 0\n",
    "        for k in range(len(tableKey[i])):\n",
    "            sum += (tableKey[i][k]*tablePlaintext[j][k])\n",
    "            result[j][i] = sum % 26\n",
    "encryptedText = \"\"\n",
    "\n",
    "for i in range(len(result)):\n",
    "    for j in range(len(result[0])):\n",
    "        encryptedText += (chr(result[i][j] + 65))\n",
    "        \n",
    "print()\n",
    "print(f\"Encrypted Text: {encryptedText}\")\n",
    "tempMatrix = [[0 for i in range(0,len(tableKey))] for j in range(0,len(tablePlaintext))]\n",
    "\n",
    "for i in range(len(tableKey)):\n",
    "    for j in range(len(tableKey[0])):\n",
    "        tempMatrix[j][i] = tableKey[i][j]\n",
    "\n",
    "A = Matrix(tempMatrix)\n",
    "tempMatrix = A.adjugate().T.tolist()\n",
    "determinant = A.det()%26\n",
    "multInverse = 0\n",
    "for i in range(1,27):\n",
    "    if (determinant*i)%26 == 1:\n",
    "        multInverse = i\n",
    "        break\n",
    "else:\n",
    "    print(\"No Possible Multiplcative Inverse\")\n",
    "    sys.exit()\n",
    "\n",
    "for i in range(len(tempMatrix)):\n",
    "    for j in range(len(tempMatrix[0])):\n",
    "        tempMatrix[i][j] = multInverse*tempMatrix[i][j]%26\n",
    "\n",
    "j = 0\n",
    "i = 0\n",
    "for k in encryptedText:\n",
    "    if j >= matrix_lengthKey:\n",
    "        j = 0\n",
    "        i += 1\n",
    "    tablePlaintext[i][j] = ord(k) % 65\n",
    "    j += 1\n",
    "\n",
    "for j in range(len(tablePlaintext)):\n",
    "    for i in range(len(tempMatrix)):\n",
    "        sum = 0\n",
    "        for k in range(len(tempMatrix[i])):\n",
    "            sum += (tempMatrix[i][k]*tablePlaintext[j][k])\n",
    "            result[j][i] = sum % 26\n",
    "\n",
    "decryptedText = \"\"\n",
    "for i in range(len(result)):\n",
    "    for j in range(len(result[0])):\n",
    "        decryptedText += (chr(result[i][j] + 65))\n",
    "print(f\"Decrypted Text: {decryptedText}\")"
   ]
  },
  {
   "cell_type": "code",
   "execution_count": null,
   "id": "c6a8b94a",
   "metadata": {},
   "outputs": [],
   "source": []
  },
  {
   "cell_type": "code",
   "execution_count": 25,
   "id": "fe8b4f4c",
   "metadata": {},
   "outputs": [
    {
     "name": "stdout",
     "output_type": "stream",
     "text": [
      "Requirement already satisfied: sympy in c:\\users\\admin\\appdata\\local\\programs\\python\\python310\\lib\\site-packages (1.11.1)\n",
      "Requirement already satisfied: mpmath>=0.19 in c:\\users\\admin\\appdata\\local\\programs\\python\\python310\\lib\\site-packages (from sympy) (1.2.1)\n",
      "Note: you may need to restart the kernel to use updated packages.\n"
     ]
    },
    {
     "name": "stderr",
     "output_type": "stream",
     "text": [
      "\n",
      "[notice] A new release of pip available: 22.2.2 -> 22.3.1\n",
      "[notice] To update, run: python.exe -m pip install --upgrade pip\n"
     ]
    }
   ],
   "source": [
    "pip install sympy"
   ]
  },
  {
   "cell_type": "markdown",
   "id": "17f08461",
   "metadata": {},
   "source": [
    "# Reverse RSA"
   ]
  },
  {
   "cell_type": "code",
   "execution_count": 24,
   "id": "24f09203",
   "metadata": {},
   "outputs": [
    {
     "name": "stdout",
     "output_type": "stream",
     "text": [
      "Message: 44\n",
      "p: 11\n",
      "q: 7\n",
      "d:  13\n",
      "S:  44\n",
      "M1:  44\n",
      "Digital Signature is verified\n"
     ]
    }
   ],
   "source": [
    "import numpy as np\n",
    "from math import gcd\n",
    "import random\n",
    "def createDigitalSignature(M,p,q):\n",
    "    n=p*q\n",
    "    phin=(p-1)*(q-1)\n",
    "    l=[]\n",
    "    for i in range(2,phin):\n",
    "        if gcd(phin,i)==1:\n",
    "            l.append(i)\n",
    "    e=random.sample(l,1)[0]\n",
    "    d=1\n",
    "    while (e*d)%phin!=1:\n",
    "        d=d+1\n",
    "    print('d: ',d)    \n",
    "    S=1    \n",
    "    for i in range(d):\n",
    "        S=((S*M)%n)%n \n",
    "    print('S: ',S)    \n",
    "    return M,S,e,n\n",
    "\n",
    "def verifyDigitalSignature(M,S,e,n):\n",
    "    m=1\n",
    "    M1=1\n",
    "    for i in range(e):\n",
    "        M1=((M1*S)%n)%n\n",
    "    print('M1: ',M1)    \n",
    "    if M==M1:\n",
    "        print('Digital Signature is verified')\n",
    "    else:\n",
    "        print('Digital Signature not verified')\n",
    "\n",
    "M=int(input('Message: '))\n",
    "p=int(input('p: '))\n",
    "q=int(input('q: '))\n",
    "M,S,e,n=createDigitalSignature(M,p,q)\n",
    "verifyDigitalSignature(M,S,e,n)"
   ]
  },
  {
   "cell_type": "code",
   "execution_count": null,
   "id": "6047b787",
   "metadata": {},
   "outputs": [],
   "source": []
  }
 ],
 "metadata": {
  "kernelspec": {
   "display_name": "Python 3.9.2 64-bit",
   "language": "python",
   "name": "python3"
  },
  "language_info": {
   "codemirror_mode": {
    "name": "ipython",
    "version": 3
   },
   "file_extension": ".py",
   "mimetype": "text/x-python",
   "name": "python",
   "nbconvert_exporter": "python",
   "pygments_lexer": "ipython3",
   "version": "3.9.2"
  },
  "vscode": {
   "interpreter": {
    "hash": "d361700b9a9c326dc8d0f2aed882b940039dc801e57c5ee64f97fc58a6b83d17"
   }
  }
 },
 "nbformat": 4,
 "nbformat_minor": 5
}
